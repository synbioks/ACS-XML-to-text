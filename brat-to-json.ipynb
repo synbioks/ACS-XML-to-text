{
 "cells": [
  {
   "cell_type": "code",
   "execution_count": null,
   "metadata": {},
   "outputs": [],
   "source": [
    "import os\n",
    "import json\n",
    "from pprint import pprint\n",
    "\n",
    "from tqdm.notebook import tqdm"
   ]
  },
  {
   "cell_type": "code",
   "execution_count": null,
   "metadata": {},
   "outputs": [],
   "source": [
    "data_dir = \"../../data/acs-data\"\n",
    "\n",
    "ann_dir = os.path.join(data_dir, \"acs-ner-20210205\")\n",
    "json_dir = os.path.join(data_dir, \"json-files\")\n",
    "output_dir = os.path.join(data_dir, \"json-files-ner\")"
   ]
  },
  {
   "cell_type": "code",
   "execution_count": null,
   "metadata": {},
   "outputs": [],
   "source": [
    "def process_one_file(ann_path, json_path, output_path):\n",
    "    \n",
    "    # load ann information\n",
    "    ann = []\n",
    "    with open(ann_path, \"r\", encoding=\"utf-8\") as ann_fin:\n",
    "        for line in ann_fin:\n",
    "            if not line.startswith(\"T\"):\n",
    "                continue\n",
    "            items = line.strip(\"\\n\").split(\"\\t\")\n",
    "            pos_and_type = items[1].strip().split(\" \")\n",
    "            ann.append({\n",
    "                \"id\": items[0],\n",
    "                \"type\": pos_and_type[0],\n",
    "                \"start\": int(pos_and_type[1]),\n",
    "                \"end\": int(pos_and_type[2]),\n",
    "                \"text\": items[2]\n",
    "            })\n",
    "    \n",
    "    # load json information\n",
    "    json_obj = None\n",
    "    with open(json_path, \"r\", encoding=\"utf-8\") as json_fin:\n",
    "        json_obj = json.load(json_fin)\n",
    "    \n",
    "    ann = sorted(ann, key=lambda x: x[\"start\"])\n",
    "    ann_idx = 0\n",
    "    for para_idx, para in enumerate(json_obj[\"body\"]):\n",
    "        para_start, para_end = para[\"global_span_start\"], para[\"global_span_end\"]\n",
    "        ent_bucket = {}\n",
    "        while ann_idx < len(ann):\n",
    "            ent = ann[ann_idx]\n",
    "            if ent[\"start\"] >= para_end: # this ent is for the next paragraph\n",
    "                break\n",
    "            ent_text = ent[\"text\"]\n",
    "            if ent_text not in ent_bucket:\n",
    "                ent_bucket[ent_text] = []\n",
    "            ent_bucket[ent_text].append({\n",
    "                \"instance_id\": ent[\"id\"],\n",
    "                \"type\": ent[\"type\"],\n",
    "                \"global_span_start\": ent[\"start\"],\n",
    "                \"global_span_end\": ent[\"end\"],\n",
    "                \"local_span_start\": ent[\"start\"] - para_start,\n",
    "                \"local_span_end\": ent[\"end\"] - para_start\n",
    "            })\n",
    "            ann_idx += 1\n",
    "        para[\"ner_annotations\"] = []\n",
    "        for k, v in ent_bucket.items():\n",
    "            para[\"ner_annotations\"].append({\n",
    "                \"ner_mention\": k,\n",
    "                \"appearance_count\": len(v),\n",
    "                \"ner_instance_array\": v\n",
    "            })\n",
    "            \n",
    "    with open(output_path, \"w\", encoding=\"utf-8\") as json_fout:\n",
    "        json.dump(json_obj, json_fout)"
   ]
  },
  {
   "cell_type": "code",
   "execution_count": null,
   "metadata": {},
   "outputs": [],
   "source": [
    "for filename in tqdm(os.listdir(ann_dir)):\n",
    "    if filename.endswith(\".ann\"):\n",
    "        pub_num = filename.split(\".\")[0]\n",
    "        process_one_file(\n",
    "            os.path.join(ann_dir, f\"{pub_num}.ann\"),\n",
    "            os.path.join(json_dir, f\"{pub_num}.json\"),\n",
    "            os.path.join(output_dir, f\"{pub_num}.json\")\n",
    "        )"
   ]
  },
  {
   "cell_type": "code",
   "execution_count": null,
   "metadata": {},
   "outputs": [],
   "source": [
    "# check one output\n",
    "with open(os.path.join(output_dir, f\"sb7b00029.json\")) as fin:\n",
    "    obj = json.load(fin)\n",
    "    pprint(obj[\"body\"][10])\n",
    "    print(\"\\n\".join(obj[\"body\"][10][\"text\"])[2612:2629])"
   ]
  },
  {
   "cell_type": "code",
   "execution_count": null,
   "metadata": {},
   "outputs": [],
   "source": []
  }
 ],
 "metadata": {
  "kernelspec": {
   "display_name": "Python 3",
   "language": "python",
   "name": "python3"
  },
  "language_info": {
   "codemirror_mode": {
    "name": "ipython",
    "version": 3
   },
   "file_extension": ".py",
   "mimetype": "text/x-python",
   "name": "python",
   "nbconvert_exporter": "python",
   "pygments_lexer": "ipython3",
   "version": "3.6.12"
  }
 },
 "nbformat": 4,
 "nbformat_minor": 4
}
